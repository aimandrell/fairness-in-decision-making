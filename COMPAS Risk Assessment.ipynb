{
 "cells": [
  {
   "cell_type": "markdown",
   "metadata": {},
   "source": [
    "# Fairness in Decision Making"
   ]
  },
  {
   "cell_type": "markdown",
   "metadata": {},
   "source": [
    "Fairness in decision making is a common problem that arises in any setting where we need to make decisions based on data. In this case, we will explore the concept of fairness in a statistical setting -- fairness is not a purely technical problem, but by leveraging basic statistical methodologies, we will see that some compelling phenomenon still arise."
   ]
  },
  {
   "cell_type": "markdown",
   "metadata": {},
   "source": [
    "Risk assessments are a very integral part of the criminal justice system. They aid judges in creating awareness of hazards and help identify who may be at risk. For example, a risk assessment that is used to inform a judge on a sentencing decisions should be able to predict whether or not a defendent is going to commit a new crime during or after their probation. Data, or information about persons with similar profiles, is a very important part of forming this risk assessment."
   ]
  },
  {
   "cell_type": "markdown",
   "metadata": {},
   "source": [
    "In the criminal justice system, there is increasing support for using algorithmic models (machine learning) in deriving risk assessments to aid judges in the decision making process - these models are built off of information about past and current defendents. Advocates argue that machine learning may lead to more efficient decisions and decrease the bias that is inherent in human judgement. Critics argue that such models perpetuate inequalities found in historical data and therefore harm historically marginalized groups of people. "
   ]
  },
  {
   "cell_type": "markdown",
   "metadata": {},
   "source": [
    "In this study, we will explore a risk assessment algorithm called the COMPAS. COMPAS examines a defendant's criminal record and other personal information to assess how likely they are to recidivate in the next two years. You can read more about the investigation carried out by ProPublica on this issue, which drew attention to the controversy of leveraging machine learning in decision making. "
   ]
  },
  {
   "cell_type": "markdown",
   "metadata": {},
   "source": [
    "We will look at the COMPAS risk score betwee whites and blacks. In addition, we will follow ProPublica's analysis and filter data where the number of days before screening is over or under 30."
   ]
  },
  {
   "cell_type": "code",
   "execution_count": 349,
   "metadata": {},
   "outputs": [],
   "source": [
    "import matplotlib.pyplot as plt \n",
    "import matplotlib.ticker\n",
    "import numpy as np\n",
    "import random as rd\n",
    "import pandas as pd\n",
    "%matplotlib inline"
   ]
  },
  {
   "cell_type": "code",
   "execution_count": 544,
   "metadata": {},
   "outputs": [],
   "source": [
    "data_url = \"https://raw.githubusercontent.com/propublica/compas-analysis/master/compas-scores-two-years.csv\"\n",
    "compas = pd.read_csv(data_url).query('days_b_screening_arrest <= 30 & days_b_screening_arrest >= -30')"
   ]
  },
  {
   "cell_type": "code",
   "execution_count": 545,
   "metadata": {},
   "outputs": [],
   "source": [
    "compas_violent = compas[compas['race'].isin(['African-American', 'Caucasian'])].groupby(['race', 'v_decile_score'], as_index=False)\n",
    "compas = compas[compas['race'].isin(['African-American', 'Caucasian'])].groupby(['race', 'decile_score'], as_index=False)\n"
   ]
  },
  {
   "cell_type": "code",
   "execution_count": 222,
   "metadata": {},
   "outputs": [],
   "source": [
    "#for each race/decile pair, calculate stats for recidivism\n",
    "def recid_count_fn(df_recid_column):\n",
    "    \"\"\" Computes the total number of examples in which recidivism occurred.\n",
    "        Parameters:\n",
    "            df_recid_column: DataFrame column where each row takes value 1 if\n",
    "            recidivism occured, and 0 if recidivism did not occur.\n",
    "        Returns:\n",
    "            The total number of examples in which recidivism occurred.\n",
    "    \"\"\"\n",
    "    recid_count = df_recid_column.sum()\n",
    "    return recid_count\n",
    "\n",
    "def non_recid_count_fn(df_recid_column):\n",
    "    \"\"\"Computes the total number of examples in which recidivism did not occur.\n",
    "    Parameters:\n",
    "        df_recid_column: dataframe column where each row takes value 1 if\n",
    "        recidivism occured, and 0 if recidivism did not occur.\n",
    "    Returns:\n",
    "        The total number of examples in which recidivism did not occur.\n",
    "    \"\"\"\n",
    "    non_recid_count = sum(df_recid_column == 0) \n",
    "    return non_recid_count\n",
    "\n",
    "def total_count_fn(df_recid_column):\n",
    "    \"\"\"Computes the total number of examples in the dataset.\n",
    "    Parameters:\n",
    "        df_recid_column: dataframe column where each row takes value 1 if\n",
    "        recidivism occured, and 0 if recidivism did not occur.\n",
    "    Returns:\n",
    "        The total number of examples in the dataset.\n",
    "    \"\"\"\n",
    "    total_count = df_recid_column.count()\n",
    "    return total_count"
   ]
  },
  {
   "cell_type": "code",
   "execution_count": 223,
   "metadata": {},
   "outputs": [],
   "source": [
    "compas_stats = compas['two_year_recid'].agg({'recid_count': recid_count_fn, 'non_recid_count': non_recid_count_fn, 'total_count': total_count_fn})"
   ]
  },
  {
   "cell_type": "code",
   "execution_count": 224,
   "metadata": {},
   "outputs": [],
   "source": [
    "compas_violent_stats = compas_violent['two_year_recid'].agg({'recid_count': recid_count_fn, 'non_recid_count': non_recid_count_fn, 'total_count': total_count_fn})"
   ]
  },
  {
   "cell_type": "code",
   "execution_count": 227,
   "metadata": {},
   "outputs": [],
   "source": [
    "#compute the classifier outcomes for different decision thresholds (using summary DataFrame above)\n",
    "#often in statistics, we can express the probabilities in the introduction in terms of true positive rate, \n",
    "#true negative rate, false positive rate, and false negative rate\n",
    "def TP(compas_stats_df):\n",
    "    \"\"\"\n",
    "        Args:\n",
    "            compas_stats_df: DataFrame found above\n",
    "        Returns:\n",
    "            An array of the number of true positives for each decile_score. We classify an example as 1 if \n",
    "            that example's score is equal to or above the decision threshold. Take recid_count. \n",
    "    \"\"\"\n",
    "    TPs = []\n",
    "    for threshold in compas_stats_df['decile_score']:\n",
    "        x = compas_stats_df[compas_stats_df['decile_score'] >= threshold]['recid_count'].sum()\n",
    "        true_positives = x\n",
    "        TPs.append(true_positives)\n",
    "    return np.array(TPs, dtype=np.int32)\n",
    "\n",
    "def FP(compas_stats_df):\n",
    "    \"\"\"\n",
    "        Args:\n",
    "            compas_stats_df: DataFrame found above\n",
    "        Returns:\n",
    "            An array of the number of false positives for each decile_score. We classify an example as 1 if \n",
    "            that example's score is equal to or above the decision threshold. Take non_recid_count. \n",
    "    \"\"\"\n",
    "    FPs = []\n",
    "    for threshold in compas_stats_df['decile_score']:\n",
    "        x = compas_stats_df[compas_stats_df['decile_score'] >= threshold]['non_recid_count'].sum()\n",
    "        false_positives = x\n",
    "        FPs.append(false_positives)\n",
    "    return np.array(FPs, dtype=np.int32)\n",
    "\n",
    "def TN(compas_stats_df):\n",
    "    \"\"\"\n",
    "        Args:\n",
    "            compas_stats_df: DataFrame found above\n",
    "        Returns:\n",
    "            An array of the number of true negatives for each decile_score. We classify an example as 1 if \n",
    "            that example's score less than the decision threshold. Take non_recid_count. \n",
    "    \"\"\"\n",
    "    TNs = []\n",
    "    for threshold in compas_stats_df['decile_score']:\n",
    "        x = compas_stats_df[compas_stats_df['decile_score'] < threshold]['non_recid_count'].sum()\n",
    "        true_negatives = x\n",
    "        TNs.append(true_negatives)\n",
    "    return np.array(TNs, dtype=np.int32)\n",
    "\n",
    "def FN(compas_stats_df):\n",
    "    \"\"\"\n",
    "        Args:\n",
    "            compas_stats_df: DataFrame found above\n",
    "        Returns:\n",
    "            An array of the number of true positives for each decile_score. We classify an example as 1 if \n",
    "            that example's score is equal to or above the decision threshold. Take recid_count. \n",
    "    \"\"\"\n",
    "    FNs = []\n",
    "    for threshold in compas_stats_df['decile_score']:\n",
    "        x = compas_stats_df[compas_stats_df['decile_score'] < threshold]['recid_count'].sum()\n",
    "        false_negatives = x\n",
    "        FNs.append(false_negatives)\n",
    "    return np.array(FNs, dtype=np.int32)\n"
   ]
  },
  {
   "cell_type": "code",
   "execution_count": 228,
   "metadata": {},
   "outputs": [],
   "source": [
    "#add columns to compas stats so we can find tpr, fpr, tnr, fnr\n",
    "for race in ['African-American', 'Caucasian']:\n",
    "    data = compas_stats['race'] == race\n",
    "    compas_stats.loc[data, 'TP'] = TP(summary[data]) \n",
    "    compas_stats.loc[data, 'TN'] = TN(compas_stats[data]) \n",
    "    compas_stats.loc[data, 'FP'] = FP(compas_stats[data]) \n",
    "    compas_stats.loc[data, 'FN'] = FN(compas_stats[data])\n",
    "    compas_stats.fillna(0 , inplace=True)"
   ]
  },
  {
   "cell_type": "code",
   "execution_count": 229,
   "metadata": {
    "scrolled": true
   },
   "outputs": [
    {
     "data": {
      "text/html": [
       "<div>\n",
       "<style scoped>\n",
       "    .dataframe tbody tr th:only-of-type {\n",
       "        vertical-align: middle;\n",
       "    }\n",
       "\n",
       "    .dataframe tbody tr th {\n",
       "        vertical-align: top;\n",
       "    }\n",
       "\n",
       "    .dataframe thead th {\n",
       "        text-align: right;\n",
       "    }\n",
       "</style>\n",
       "<table border=\"1\" class=\"dataframe\">\n",
       "  <thead>\n",
       "    <tr style=\"text-align: right;\">\n",
       "      <th></th>\n",
       "      <th>race</th>\n",
       "      <th>decile_score</th>\n",
       "      <th>recid_count</th>\n",
       "      <th>non_recid_count</th>\n",
       "      <th>total_count</th>\n",
       "      <th>TP</th>\n",
       "      <th>TN</th>\n",
       "      <th>FP</th>\n",
       "      <th>FN</th>\n",
       "    </tr>\n",
       "  </thead>\n",
       "  <tbody>\n",
       "    <tr>\n",
       "      <th>0</th>\n",
       "      <td>African-American</td>\n",
       "      <td>1</td>\n",
       "      <td>85</td>\n",
       "      <td>280</td>\n",
       "      <td>365</td>\n",
       "      <td>1661.0</td>\n",
       "      <td>0.0</td>\n",
       "      <td>1514.0</td>\n",
       "      <td>0.0</td>\n",
       "    </tr>\n",
       "    <tr>\n",
       "      <th>1</th>\n",
       "      <td>African-American</td>\n",
       "      <td>2</td>\n",
       "      <td>105</td>\n",
       "      <td>241</td>\n",
       "      <td>346</td>\n",
       "      <td>1576.0</td>\n",
       "      <td>280.0</td>\n",
       "      <td>1234.0</td>\n",
       "      <td>85.0</td>\n",
       "    </tr>\n",
       "    <tr>\n",
       "      <th>2</th>\n",
       "      <td>African-American</td>\n",
       "      <td>3</td>\n",
       "      <td>125</td>\n",
       "      <td>173</td>\n",
       "      <td>298</td>\n",
       "      <td>1471.0</td>\n",
       "      <td>521.0</td>\n",
       "      <td>993.0</td>\n",
       "      <td>190.0</td>\n",
       "    </tr>\n",
       "    <tr>\n",
       "      <th>3</th>\n",
       "      <td>African-American</td>\n",
       "      <td>4</td>\n",
       "      <td>158</td>\n",
       "      <td>179</td>\n",
       "      <td>337</td>\n",
       "      <td>1346.0</td>\n",
       "      <td>694.0</td>\n",
       "      <td>820.0</td>\n",
       "      <td>315.0</td>\n",
       "    </tr>\n",
       "    <tr>\n",
       "      <th>4</th>\n",
       "      <td>African-American</td>\n",
       "      <td>5</td>\n",
       "      <td>158</td>\n",
       "      <td>165</td>\n",
       "      <td>323</td>\n",
       "      <td>1188.0</td>\n",
       "      <td>873.0</td>\n",
       "      <td>641.0</td>\n",
       "      <td>473.0</td>\n",
       "    </tr>\n",
       "    <tr>\n",
       "      <th>5</th>\n",
       "      <td>African-American</td>\n",
       "      <td>6</td>\n",
       "      <td>187</td>\n",
       "      <td>131</td>\n",
       "      <td>318</td>\n",
       "      <td>1030.0</td>\n",
       "      <td>1038.0</td>\n",
       "      <td>476.0</td>\n",
       "      <td>631.0</td>\n",
       "    </tr>\n",
       "    <tr>\n",
       "      <th>6</th>\n",
       "      <td>African-American</td>\n",
       "      <td>7</td>\n",
       "      <td>209</td>\n",
       "      <td>134</td>\n",
       "      <td>343</td>\n",
       "      <td>843.0</td>\n",
       "      <td>1169.0</td>\n",
       "      <td>345.0</td>\n",
       "      <td>818.0</td>\n",
       "    </tr>\n",
       "    <tr>\n",
       "      <th>7</th>\n",
       "      <td>African-American</td>\n",
       "      <td>8</td>\n",
       "      <td>215</td>\n",
       "      <td>86</td>\n",
       "      <td>301</td>\n",
       "      <td>634.0</td>\n",
       "      <td>1303.0</td>\n",
       "      <td>211.0</td>\n",
       "      <td>1027.0</td>\n",
       "    </tr>\n",
       "    <tr>\n",
       "      <th>8</th>\n",
       "      <td>African-American</td>\n",
       "      <td>9</td>\n",
       "      <td>229</td>\n",
       "      <td>88</td>\n",
       "      <td>317</td>\n",
       "      <td>419.0</td>\n",
       "      <td>1389.0</td>\n",
       "      <td>125.0</td>\n",
       "      <td>1242.0</td>\n",
       "    </tr>\n",
       "    <tr>\n",
       "      <th>9</th>\n",
       "      <td>African-American</td>\n",
       "      <td>10</td>\n",
       "      <td>190</td>\n",
       "      <td>37</td>\n",
       "      <td>227</td>\n",
       "      <td>190.0</td>\n",
       "      <td>1477.0</td>\n",
       "      <td>37.0</td>\n",
       "      <td>1471.0</td>\n",
       "    </tr>\n",
       "    <tr>\n",
       "      <th>10</th>\n",
       "      <td>Caucasian</td>\n",
       "      <td>1</td>\n",
       "      <td>128</td>\n",
       "      <td>477</td>\n",
       "      <td>605</td>\n",
       "      <td>822.0</td>\n",
       "      <td>0.0</td>\n",
       "      <td>1281.0</td>\n",
       "      <td>0.0</td>\n",
       "    </tr>\n",
       "    <tr>\n",
       "      <th>11</th>\n",
       "      <td>Caucasian</td>\n",
       "      <td>2</td>\n",
       "      <td>100</td>\n",
       "      <td>221</td>\n",
       "      <td>321</td>\n",
       "      <td>694.0</td>\n",
       "      <td>477.0</td>\n",
       "      <td>804.0</td>\n",
       "      <td>128.0</td>\n",
       "    </tr>\n",
       "    <tr>\n",
       "      <th>12</th>\n",
       "      <td>Caucasian</td>\n",
       "      <td>3</td>\n",
       "      <td>82</td>\n",
       "      <td>156</td>\n",
       "      <td>238</td>\n",
       "      <td>594.0</td>\n",
       "      <td>698.0</td>\n",
       "      <td>583.0</td>\n",
       "      <td>228.0</td>\n",
       "    </tr>\n",
       "    <tr>\n",
       "      <th>13</th>\n",
       "      <td>Caucasian</td>\n",
       "      <td>4</td>\n",
       "      <td>98</td>\n",
       "      <td>145</td>\n",
       "      <td>243</td>\n",
       "      <td>512.0</td>\n",
       "      <td>854.0</td>\n",
       "      <td>427.0</td>\n",
       "      <td>310.0</td>\n",
       "    </tr>\n",
       "    <tr>\n",
       "      <th>14</th>\n",
       "      <td>Caucasian</td>\n",
       "      <td>5</td>\n",
       "      <td>91</td>\n",
       "      <td>109</td>\n",
       "      <td>200</td>\n",
       "      <td>414.0</td>\n",
       "      <td>999.0</td>\n",
       "      <td>282.0</td>\n",
       "      <td>408.0</td>\n",
       "    </tr>\n",
       "    <tr>\n",
       "      <th>15</th>\n",
       "      <td>Caucasian</td>\n",
       "      <td>6</td>\n",
       "      <td>93</td>\n",
       "      <td>67</td>\n",
       "      <td>160</td>\n",
       "      <td>323.0</td>\n",
       "      <td>1108.0</td>\n",
       "      <td>173.0</td>\n",
       "      <td>499.0</td>\n",
       "    </tr>\n",
       "    <tr>\n",
       "      <th>16</th>\n",
       "      <td>Caucasian</td>\n",
       "      <td>7</td>\n",
       "      <td>68</td>\n",
       "      <td>45</td>\n",
       "      <td>113</td>\n",
       "      <td>230.0</td>\n",
       "      <td>1175.0</td>\n",
       "      <td>106.0</td>\n",
       "      <td>592.0</td>\n",
       "    </tr>\n",
       "    <tr>\n",
       "      <th>17</th>\n",
       "      <td>Caucasian</td>\n",
       "      <td>8</td>\n",
       "      <td>72</td>\n",
       "      <td>24</td>\n",
       "      <td>96</td>\n",
       "      <td>162.0</td>\n",
       "      <td>1220.0</td>\n",
       "      <td>61.0</td>\n",
       "      <td>660.0</td>\n",
       "    </tr>\n",
       "    <tr>\n",
       "      <th>18</th>\n",
       "      <td>Caucasian</td>\n",
       "      <td>9</td>\n",
       "      <td>55</td>\n",
       "      <td>22</td>\n",
       "      <td>77</td>\n",
       "      <td>90.0</td>\n",
       "      <td>1244.0</td>\n",
       "      <td>37.0</td>\n",
       "      <td>732.0</td>\n",
       "    </tr>\n",
       "    <tr>\n",
       "      <th>19</th>\n",
       "      <td>Caucasian</td>\n",
       "      <td>10</td>\n",
       "      <td>35</td>\n",
       "      <td>15</td>\n",
       "      <td>50</td>\n",
       "      <td>35.0</td>\n",
       "      <td>1266.0</td>\n",
       "      <td>15.0</td>\n",
       "      <td>787.0</td>\n",
       "    </tr>\n",
       "  </tbody>\n",
       "</table>\n",
       "</div>"
      ],
      "text/plain": [
       "                race  decile_score  recid_count  non_recid_count  total_count  \\\n",
       "0   African-American             1           85              280          365   \n",
       "1   African-American             2          105              241          346   \n",
       "2   African-American             3          125              173          298   \n",
       "3   African-American             4          158              179          337   \n",
       "4   African-American             5          158              165          323   \n",
       "5   African-American             6          187              131          318   \n",
       "6   African-American             7          209              134          343   \n",
       "7   African-American             8          215               86          301   \n",
       "8   African-American             9          229               88          317   \n",
       "9   African-American            10          190               37          227   \n",
       "10         Caucasian             1          128              477          605   \n",
       "11         Caucasian             2          100              221          321   \n",
       "12         Caucasian             3           82              156          238   \n",
       "13         Caucasian             4           98              145          243   \n",
       "14         Caucasian             5           91              109          200   \n",
       "15         Caucasian             6           93               67          160   \n",
       "16         Caucasian             7           68               45          113   \n",
       "17         Caucasian             8           72               24           96   \n",
       "18         Caucasian             9           55               22           77   \n",
       "19         Caucasian            10           35               15           50   \n",
       "\n",
       "        TP      TN      FP      FN  \n",
       "0   1661.0     0.0  1514.0     0.0  \n",
       "1   1576.0   280.0  1234.0    85.0  \n",
       "2   1471.0   521.0   993.0   190.0  \n",
       "3   1346.0   694.0   820.0   315.0  \n",
       "4   1188.0   873.0   641.0   473.0  \n",
       "5   1030.0  1038.0   476.0   631.0  \n",
       "6    843.0  1169.0   345.0   818.0  \n",
       "7    634.0  1303.0   211.0  1027.0  \n",
       "8    419.0  1389.0   125.0  1242.0  \n",
       "9    190.0  1477.0    37.0  1471.0  \n",
       "10   822.0     0.0  1281.0     0.0  \n",
       "11   694.0   477.0   804.0   128.0  \n",
       "12   594.0   698.0   583.0   228.0  \n",
       "13   512.0   854.0   427.0   310.0  \n",
       "14   414.0   999.0   282.0   408.0  \n",
       "15   323.0  1108.0   173.0   499.0  \n",
       "16   230.0  1175.0   106.0   592.0  \n",
       "17   162.0  1220.0    61.0   660.0  \n",
       "18    90.0  1244.0    37.0   732.0  \n",
       "19    35.0  1266.0    15.0   787.0  "
      ]
     },
     "execution_count": 229,
     "metadata": {},
     "output_type": "execute_result"
    }
   ],
   "source": [
    "compas_stats"
   ]
  },
  {
   "cell_type": "markdown",
   "metadata": {},
   "source": [
    "# Visualization of COMPAS Risk Scores"
   ]
  },
  {
   "cell_type": "code",
   "execution_count": 515,
   "metadata": {},
   "outputs": [
    {
     "data": {
      "image/png": "[encoded data removed]",
      "text/plain": [
       "<Figure size 432x288 with 1 Axes>"
      ]
     },
     "metadata": {
      "needs_background": "light"
     },
     "output_type": "display_data"
    }
   ],
   "source": [
    "total = ((compas_stats['total_count'])).tolist()\n",
    "percentages_african_american = total[:int(len(total)/2)]\n",
    "percentages_caucasian = total[int(len(total)/2):]\n",
    "\n",
    "decileScores = np.arange(10)\n",
    "percentAfricanAmericans = plt.bar(decileScores, percentages_african_american)\n",
    "percentCaucasians = plt.bar(decileScores, percentages_caucasian)\n",
    "\n",
    "plt.ylabel('Number of Defendants')\n",
    "plt.xlabel('Decile Scores')\n",
    "plt.title('Number of Defendants by Decile Score and Race')\n",
    "plt.xticks(decileScores, ('1', '2', '3', '4', '5', '6', '7', '8', '9', '10'))\n",
    "plt.legend((percentAfricanAmericans[0], percentCaucasians[0]), ('African Americans', 'Caucasians'))\n",
    "plt.show()"
   ]
  },
  {
   "cell_type": "markdown",
   "metadata": {},
   "source": [
    "With 3,175 black defendants and 2,103 white defendants in the sample, we can already see that for the Caucasians group, the distribution is skewed towards lower risk decile scores."
   ]
  },
  {
   "cell_type": "code",
   "execution_count": 519,
   "metadata": {},
   "outputs": [
    {
     "data": {
      "image/png": "[encoded data removed]",
      "text/plain": [
       "<Figure size 432x288 with 1 Axes>"
      ]
     },
     "metadata": {
      "needs_background": "light"
     },
     "output_type": "display_data"
    }
   ],
   "source": [
    "total_v = ((compas_violent_stats['total_count'])).tolist()\n",
    "percentages_african_american = total_v[:int(len(total_v)/2)]\n",
    "percentages_caucasian = total_v[int(len(total)/2):]\n",
    "\n",
    "decileScores = np.arange(10)\n",
    "percentAfricanAmericans = plt.bar(decileScores, percentages_african_american)\n",
    "percentCaucasians = plt.bar(decileScores, percentages_caucasian)\n",
    "\n",
    "plt.ylabel('Number of Defendants')\n",
    "plt.xlabel('Violent Decile Scores')\n",
    "plt.title('Number of Defendants by Violent Decile Score and Race')\n",
    "plt.xticks(decileScores, ('1', '2', '3', '4', '5', '6', '7', '8', '9', '10'))\n",
    "plt.legend((percentAfricanAmericans[0], percentCaucasians[0]), ('African Americans', 'Caucasians'))\n",
    "plt.show()"
   ]
  },
  {
   "cell_type": "markdown",
   "metadata": {},
   "source": [
    "For the next visualization, we look at violent decile score, which indicates a rating of violence from 1 (not violent at all) to 10 (very violent). We also see a disparity in the distribution of scores for white and black defendents. We also see that for the Caucasians group, the distribution is skewed towards lower risk decile scores. But, we cannot attribute this to a difference in merely race, so we will next control for other factors and understand if there is a bias between the two racial groups.  "
   ]
  },
  {
   "cell_type": "markdown",
   "metadata": {},
   "source": [
    "# Analyzing statistical criterion to ensure fairness"
   ]
  },
  {
   "cell_type": "markdown",
   "metadata": {},
   "source": [
    "Although we do not have the true data of whether or not the defendent recidivated at prediction time, we can use a decision threshold. We can classify a defendent as 'will recidivate' if the decile score is greater than a threshold. Otherwise, we classify a defendent as 'will not recidivate'. We can learn the threshold that satisfies one of the statistical constraints below in an attempt to ensure fairness.\n",
    "\n",
    "Three common statistical criteria for answering the question 'equality of what?' are:\n",
    "\n",
    "Equalizing positive rates (in this case, the number of times we predict a defendent to recidivate given they are Caucasian is equal to the number of times we predict a defendent to recidivate given they are African American).\n",
    "\n",
    "    P(δ(X) = 1 | A = Caucasian) = P(δ(X) = 1 | A = African American) where δ is our decision rule\n",
    "    \n",
    "Equalizing error rates (in this case, the proportion of times we misclassify a defendent who actually recidivated is the same for both Caucasians and African Americans, and the proportion of times we misclassify a defendent who did not actually recidivate is the same both groups). \n",
    "\n",
    "    P(δ(X) = 1 | Y = 0, A = Caucasian) = P(δ(X) = 1 | Y = 0, A = African American),\n",
    "    P(δ(X) = 0 | Y = 1, A = Caucasian) = P(δ(X) = 0 | Y = 1, A = African American)\n",
    "   \n",
    "Calibration (among all defendents that get score r, on average an r proportion of them should actually be classified as positive (likely to recidivate)). \n",
    "\n",
    "    P(Y = 1 | R = r, A = Caucasian) = P(Y = 1 | R = r, A = African American) = r    \n",
    "    \n",
    "We start off by observing the outcomes of a classifier when the decision threshold occurs at each decile_score. Then, we will analyze if any of the constraints are satisfied for this decision threshold. Finally, we will compare tradeoffs of each criterion and their relevance to the investigation by ProPublica. "
   ]
  },
  {
   "cell_type": "markdown",
   "metadata": {},
   "source": [
    "# Positive Rates"
   ]
  },
  {
   "cell_type": "code",
   "execution_count": 232,
   "metadata": {},
   "outputs": [],
   "source": [
    "#are they equal? compute positive rates\n",
    "pr = ((compas_stats['TP'] + compas_stats['FP']) / (compas_stats['TP'] + compas_stats['FP'] + compas_stats['FN'] + compas_stats['TN']))\n",
    "pr_african_americans = pr.tolist()[:int(len(compas_stats)/2)]\n",
    "pr_caucasians = pr.tolist()[int(len(compas_stats)/2):]"
   ]
  },
  {
   "cell_type": "code",
   "execution_count": 233,
   "metadata": {
    "scrolled": true
   },
   "outputs": [
    {
     "data": {
      "image/png": "[encoded data removed]",
      "text/plain": [
       "<Figure size 432x288 with 1 Axes>"
      ]
     },
     "metadata": {
      "needs_background": "light"
     },
     "output_type": "display_data"
    }
   ],
   "source": [
    "#visualization of equalizing pr\n",
    "\n",
    "decileScores = np.arange(10)\n",
    "prAfricanAmericans = plt.bar(decileScores, pr_african_americans[::-1])\n",
    "prCaucasians = plt.bar(decileScores, pr_caucasians[::-1])\n",
    "\n",
    "plt.ylabel('Positive Rates')\n",
    "plt.xlabel('Decile Scores')\n",
    "plt.title('Positive Rates by Decile Score and Race')\n",
    "plt.xticks(decileScores, ('1', '2', '3', '4', '5', '6', '7', '8', '9', '10'))\n",
    "plt.legend((prAfricanAmericans[0], prCaucasians[0]), ('African Americans', 'Caucasians'))\n",
    "plt.show()"
   ]
  },
  {
   "cell_type": "markdown",
   "metadata": {},
   "source": [
    "From these visualizations, we can clearly see that the classifier does not satisfy equalizing positive rates for individual thresholds, except score decile 10. African Americans are more likely to be classified as 'high risk' than Caucasians.\n",
    "\n",
    "But, we can still equalize positive rates by choosing two different thresholds: one for whites, one for blacks. A trivial example is the threshold for African Americans is 7 and the threshold for Caucasians is 9.\n",
    "\n",
    "Does enforcing equal positive rates solve all issues of fairness in this situation? It turns out that one can come up\n",
    "with decision rules that are undeniably unfair, as shown above, but still satisfy the criterion of equal positive rates. In this scenario, equalizing positive rates would not adequately address fairness because it is not just the number of labelings of defendents for 'high risk' that matters in the criminal justice system. "
   ]
  },
  {
   "cell_type": "markdown",
   "metadata": {},
   "source": [
    "# Error Rates"
   ]
  },
  {
   "cell_type": "code",
   "execution_count": 234,
   "metadata": {},
   "outputs": [],
   "source": [
    "#are they equal? compute FPR and FNR\n",
    "fpr = compas_stats['FP'] / (compas_stats['FP'] + compas_stats['TN']).tolist()\n",
    "fnr = compas_stats['FN'] / (compas_stats['FN'] + compas_stats['TP']).tolist()\n",
    "fpr_length = int(len(fpr)/2); fnr_length = int(len(fnr)/2)\n",
    "fpr_african_americans = fpr[:fpr_length]; fpr_caucasians = fpr[fpr_length:]\n",
    "fnr_african_americans = fnr[:fnr_length]; fnr_caucasians = fnr[fnr_length:]\n"
   ]
  },
  {
   "cell_type": "code",
   "execution_count": 521,
   "metadata": {
    "scrolled": true
   },
   "outputs": [
    {
     "data": {
      "image/png": "[encoded data removed]",
      "text/plain": [
       "<Figure size 432x288 with 1 Axes>"
      ]
     },
     "metadata": {
      "needs_background": "light"
     },
     "output_type": "display_data"
    }
   ],
   "source": [
    "#visualization of equalizing FPR\n",
    "\n",
    "decileScores = np.arange(10)\n",
    "fprAfricanAmericans = plt.bar(decileScores, fpr_african_americans[::-1])\n",
    "fprCaucasians = plt.bar(decileScores, fpr_caucasians[::-1])\n",
    "\n",
    "plt.ylabel('False Positive Rates')\n",
    "plt.xlabel('Decile Scores')\n",
    "plt.title('False Positive Rates by Decile Score and Race')\n",
    "plt.xticks(decileScores, ('1', '2', '3', '4', '5', '6', '7', '8', '9', '10'))\n",
    "plt.legend((fprAfricanAmericans[0], fprCaucasians[0]), ('African Americans', 'Caucasians'))\n",
    "plt.show()"
   ]
  },
  {
   "cell_type": "code",
   "execution_count": 236,
   "metadata": {
    "scrolled": true
   },
   "outputs": [
    {
     "data": {
      "image/png": "[encoded data removed]",
      "text/plain": [
       "<Figure size 432x288 with 1 Axes>"
      ]
     },
     "metadata": {
      "needs_background": "light"
     },
     "output_type": "display_data"
    }
   ],
   "source": [
    "#visualization of equalizing FNR\n",
    "\n",
    "decileScores = np.arange(10)\n",
    "\n",
    "fnrCaucasians = plt.bar(decileScores, fnr_caucasians)\n",
    "fnrAfricanAmericans = plt.bar(decileScores, fnr_african_americans)\n",
    "\n",
    "plt.ylabel('False Negative Rates')\n",
    "plt.xlabel('Decile Scores')\n",
    "plt.title('False Negative Rates by Decile Score and Race')\n",
    "plt.xticks(decileScores, ('1', '2', '3', '4', '5', '6', '7', '8', '9', '10'))\n",
    "plt.legend((fnrAfricanAmericans[0], fnrCaucasians[0]), ('African Americans', 'Caucasians'))\n",
    "plt.show()"
   ]
  },
  {
   "cell_type": "markdown",
   "metadata": {},
   "source": [
    "From these visualizations, we can clearly see that the classifier does not satisfy equalizing error rates. In particular, the first graph shows that African Americans who did not recidivate in the next two years were more likely to be misclassified as 'high risk'. The second graph shows that Caucasians who re-offended within the next two years were more likely to be mistakenly labeled as \"low risk\". "
   ]
  },
  {
   "cell_type": "markdown",
   "metadata": {},
   "source": [
    "But, we can choose two thresholds where error rates do equal. A common way to achieve this is by utilizing an ROC Curve. We look for the intersection of the two curves shown below. "
   ]
  },
  {
   "cell_type": "code",
   "execution_count": 281,
   "metadata": {
    "scrolled": true
   },
   "outputs": [
    {
     "data": {
      "image/png": "[encoded data removed]",
      "text/plain": [
       "<Figure size 432x288 with 1 Axes>"
      ]
     },
     "metadata": {
      "needs_background": "light"
     },
     "output_type": "display_data"
    }
   ],
   "source": [
    "plt.figure()\n",
    "\n",
    "roc_caucasian = plt.plot(fpr_caucasians, 1 - np.array(fnr_caucasians), '-o', label='Caucasian')\n",
    "roc_african_american = plt.plot(fpr_african_americans, 1 - np.array(fnr_african_americans), '-o', label='African American')\n",
    "plt.xlabel('False Positive Rate'); plt.ylabel('True Positive Rate'); plt.title('ROC Curve')\n",
    "plt.legend()\n",
    "plt.show();\n"
   ]
  },
  {
   "cell_type": "markdown",
   "metadata": {},
   "source": [
    "We can equalize error rates by selecting two thresholds, one for each group, such that the true positive rate and false positive rate are equal. This is true because false negative rate is just (1 - true positive rate)."
   ]
  },
  {
   "cell_type": "markdown",
   "metadata": {},
   "source": [
    "Although equalizing error rates would ensure that both groups would have the same proportion of misclassifications, complex issues still arise. First, at decision time, judges don’t know who is truly a 'high risk' or 'low risk' defendent. Racial differences of defendents often strike people as unfair for risk assessments. Secondly, in order to equalize the error rates for African Americans and Caucasians, it will be necessary to make the predictions worse for one of the groups. \n",
    "\n",
    "Rather than worsening the predictions for some groups, it would be better to think critically about why the error rates are different between groups and try to address some of the underlying causes."
   ]
  },
  {
   "cell_type": "markdown",
   "metadata": {},
   "source": [
    "# Calibration"
   ]
  },
  {
   "cell_type": "code",
   "execution_count": 552,
   "metadata": {},
   "outputs": [
    {
     "data": {
      "image/png": "[encoded data removed]",
      "text/plain": [
       "<Figure size 432x288 with 1 Axes>"
      ]
     },
     "metadata": {
      "needs_background": "light"
     },
     "output_type": "display_data"
    }
   ],
   "source": [
    "cal = compas_stats['recid_count'] / compas_stats['total_count']\n",
    "plt.plot(np.arange(1,11), cal.tolist()[:10], '-o', label='African American')\n",
    "plt.plot(np.arange(1,11), cal.tolist()[10:], '-o', label='Caucasian')\n",
    "plt.ylabel('Rate of Positive Outcomes'); plt.xlabel('Decile Scores'); plt.title('Rate of Positive Outcomes by Decile Score and Race')\n",
    "plt.legend()\n",
    "plt.show();"
   ]
  },
  {
   "cell_type": "markdown",
   "metadata": {},
   "source": [
    "In order to achieve calibration, we must satisfy the constraint mentioned previously, which translates to \"among the defendents who recieved the same COMPAS score, a comparable percentage of black defendents reoffend in comparison to white defendents.\" \n",
    "\n",
    "The 'Rate of Positive Outcomes' is the rate at which, given a COMPAS score, defendents actually recidivate.\n",
    "\n",
    "We can visualize this criterion by the graph above, and that is precisely what Northpointe argues the COMPAS algorithm achieves.Although the graph above does not look quite calibrated, the deviation we see in the some of the deciles may be due to the scarcity of the test data in the corresponding group and deciles. For example, the score decile of 10 has 227 defendents for African Americans and 50 defendents for Caucasians. Because we are working with a sample of what the COMPAS risk assessment actually uses, we may assume that when they say the scoring algorithm is calibrated, it may be true. "
   ]
  },
  {
   "cell_type": "markdown",
   "metadata": {},
   "source": [
    "Calibration is a fairly natural notion to consider for fairness because it is an a priori guarantee. The decision-maker sees the score R(X) = r at decision time, and knows based on this score what the frequency of positive outcomes is on average."
   ]
  },
  {
   "cell_type": "markdown",
   "metadata": {},
   "source": [
    "# Implications"
   ]
  },
  {
   "cell_type": "markdown",
   "metadata": {},
   "source": [
    "It turns out that ProPublica's analysis of Northpointe’s risk assessment algorithm, COMPAS, found that black defendants were far more likely than white defendants to be misclassified as a higher risk of recidivism and white defendants were more likely to be misclassified as a lower risk of recidivism. We have shown that this statement is what equalizing error rates aims to solve, which COMPAS fails to satisfy. Interestingly, Northpointe claims that the COMPAS algorithm is fair because it satisfies the constraint of calibration. Two common non-discrimination criterion that machine learners and scientists work to satisfy when creating classification algorithms are sufficiency and separation. In this study, separation says that the classifier decisions are independent of race conditioned on the whether or not recidivism occurred. This means that for examples where recidivism actually occurred, the probability that the classifier outputs a positive decision should not differ between the races. This is precisely what equalizing error rates accomplishes, and what ProPublica argues is not accomplished by the COMPAS algorithm, and is therefore unfair. Sufficiency says that whether or not recidivism occurred is independent of race conditioned on the classifier decisions. This means that for all of the examples where the classifier outputs a positive decision, the probability of recidivism actually having occurred for those examples should not differ between the races. This is precisely what calibration accomplishes and what Northpointe achieves in the COMPAS algorithm, which they argue is fair. \n",
    "\n",
    "So, why not satisfy both? A collection of results known as “incompatibility results” prove that these three fairness criteria cannot occur indepdently. This means that we can only satisfy one of these criterions. If calibrate the COMPAS algorithm, then we cannot also equalize error rates [https://fairmlbook.org]. \n",
    "\n",
    "In conclusion, statistical fairness criteria on their own cannot be used as a “proof of fairness.” But, they can provide a starting point for thinking about issues of fairness and help surface important normative questions about decisionmaking. In this study, we unraveled the trade-offs and tensions between different potential interpretations of fairness in an attempt to find a useful solution. This study brings to light the ethical implications of delegating power to machine learning and algorithms in guiding impactful decisions, and shows that a purely technical solution to fairness is very complex and many times inadequate. In sentencing decisions and preditive policing, maybe it is best to abandon the use of learned models unless trained on non-discriminative data, evaluated by fairness experts in all relevant domains, and used in the correct scenario. "
   ]
  }
 ],
 "metadata": {
  "kernelspec": {
   "display_name": "Python 3",
   "language": "python",
   "name": "python3"
  },
  "language_info": {
   "codemirror_mode": {
    "name": "ipython",
    "version": 3
   },
   "file_extension": ".py",
   "mimetype": "text/x-python",
   "name": "python",
   "nbconvert_exporter": "python",
   "pygments_lexer": "ipython3",
   "version": "3.7.6"
  }
 },
 "nbformat": 4,
 "nbformat_minor": 4
}
